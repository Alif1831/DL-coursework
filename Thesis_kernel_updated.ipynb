{
 "cells": [
  {
   "cell_type": "code",
   "execution_count": 1,
   "id": "3c8e41fd",
   "metadata": {},
   "outputs": [],
   "source": [
    "import numpy as np\n",
    "from sklearn.gaussian_process import GaussianProcessRegressor\n",
    "from sklearn.gaussian_process.kernels import RBF, RationalQuadratic, ConstantKernel as C\n",
    "import tensorflow as tf"
   ]
  },
  {
   "cell_type": "code",
   "execution_count": 2,
   "id": "853a6444",
   "metadata": {},
   "outputs": [
    {
     "name": "stdout",
     "output_type": "stream",
     "text": [
      "Requirement already satisfied: scikit-learn in c:\\users\\asus\\anaconda3\\envs\\tf\\lib\\site-packages (1.3.1)Note: you may need to restart the kernel to use updated packages.\n",
      "\n",
      "Requirement already satisfied: numpy<2.0,>=1.17.3 in c:\\users\\asus\\anaconda3\\envs\\tf\\lib\\site-packages (from scikit-learn) (1.25.0)\n",
      "Requirement already satisfied: scipy>=1.5.0 in c:\\users\\asus\\anaconda3\\envs\\tf\\lib\\site-packages (from scikit-learn) (1.10.1)\n",
      "Requirement already satisfied: joblib>=1.1.1 in c:\\users\\asus\\anaconda3\\envs\\tf\\lib\\site-packages (from scikit-learn) (1.3.2)\n",
      "Requirement already satisfied: threadpoolctl>=2.0.0 in c:\\users\\asus\\anaconda3\\envs\\tf\\lib\\site-packages (from scikit-learn) (3.2.0)\n"
     ]
    }
   ],
   "source": [
    "pip install scikit-learn"
   ]
  },
  {
   "cell_type": "code",
   "execution_count": 3,
   "id": "1f1c8da7",
   "metadata": {},
   "outputs": [
    {
     "data": {
      "text/plain": [
       "'C:\\\\Users\\\\Asus\\\\31_DL_Code_Basics'"
      ]
     },
     "execution_count": 3,
     "metadata": {},
     "output_type": "execute_result"
    }
   ],
   "source": [
    "pwd"
   ]
  },
  {
   "cell_type": "code",
   "execution_count": 4,
   "id": "7271876b",
   "metadata": {},
   "outputs": [],
   "source": [
    "import os\n",
    "os.chdir(\"D:\\Research work\\Thesis\")"
   ]
  },
  {
   "cell_type": "code",
   "execution_count": 5,
   "id": "32268575",
   "metadata": {},
   "outputs": [],
   "source": [
    "# Load data from CSV files (replace file paths as needed)\n",
    "array_PolyC = np.loadtxt(\"numpy_Polycrys_TRAIN.csv\", delimiter=\",\", skiprows=1)\n",
    "array_SingleC = np.loadtxt(\"numpy_SINGLEcrys.csv\", delimiter=\",\", skiprows=1)"
   ]
  },
  {
   "cell_type": "code",
   "execution_count": 6,
   "id": "b9f397df",
   "metadata": {},
   "outputs": [],
   "source": [
    "# Extract features and target values\n",
    "array_PolyC_Fe = array_PolyC.T[0]  # Fe comp\n",
    "array_PolyC_Ni = array_PolyC.T[1]  # Ni comp\n",
    "array_PolyC_Tmax = array_PolyC.T[2]  # Tmax PolyCrystal"
   ]
  },
  {
   "cell_type": "code",
   "execution_count": 7,
   "id": "04bb5fd7",
   "metadata": {},
   "outputs": [],
   "source": [
    "array_SingleC_Fe = array_SingleC.T[0]  # Fe comp\n",
    "array_SingleC_Ni = array_SingleC.T[1]  # Ni comp\n",
    "array_SingleC_Tmax = array_SingleC.T[2]  # Tmax SingleCrystal"
   ]
  },
  {
   "cell_type": "code",
   "execution_count": 8,
   "id": "e8e0022c",
   "metadata": {},
   "outputs": [],
   "source": [
    "# Combine features for low and high fidelity data\n",
    "x_lf = np.array([array_SingleC_Fe, array_SingleC_Ni]).T  # (Fe, Ni) for SingleCrystal\n",
    "y_lf = array_SingleC_Tmax.reshape((-1, 1))  # Reshape target to (, 1)"
   ]
  },
  {
   "cell_type": "code",
   "execution_count": 9,
   "id": "6f376d9c",
   "metadata": {},
   "outputs": [],
   "source": [
    "x_hf = np.array([array_PolyC_Fe, array_PolyC_Ni]).T  # (Fe, Ni) for PolyCrystal\n",
    "y_hf = array_PolyC_Tmax.reshape((-1, 1))  # Reshape target to (, 1)"
   ]
  },
  {
   "cell_type": "code",
   "execution_count": 10,
   "id": "b6aa123a",
   "metadata": {},
   "outputs": [],
   "source": [
    "kernel_hf = C(1.0, (1e-3, 1e3)) * RBF(1.0, (1e-2, 1e2)) + RationalQuadratic(0.1, 0.1, (1e-2, 1e2))\n",
    "kernel_lf = C(0.1, (1e-3, 1e3)) * RBF(0.5, (1e-2, 1e2))"
   ]
  },
  {
   "cell_type": "code",
   "execution_count": 11,
   "id": "3fe74dcd",
   "metadata": {},
   "outputs": [],
   "source": [
    "# Define kernels for high and low fidelity data\n",
    "kernel_hf = C(1.0, (1e-3, 1e3)) * RBF(1.0, (1e-2, 1e2)) + RationalQuadratic(0.1, 0.1, (1e-2, 1e2))\n",
    "kernel_lf = C(0.1, (1e-3, 1e3)) * RBF(0.5, (1e-2, 1e2))\n",
    "\n",
    "# Combine the kernels with a weighting factor (alpha) to create a multi-fidelity kernel\n",
    "alpha = 0.2\n",
    "kernel = (1 - alpha) * kernel_hf + alpha * kernel_lf"
   ]
  },
  {
   "cell_type": "code",
   "execution_count": 12,
   "id": "a1782fce",
   "metadata": {},
   "outputs": [],
   "source": [
    "# Define kernels for high and low fidelity data\n",
    "kernel_hf = C(1.0, (1e-3, 1e3)) * RBF(1.0, (1e-2, 1e2)) + RationalQuadratic(0.1, 0.1, (1e-2, 1e2))\n",
    "kernel_lf = C(0.1, (1e-3, 1e3)) * RBF(0.5, (1e-2, 1e2))\n",
    "\n",
    "# Combine the kernels with a weighting factor (alpha) to create a multi-fidelity kernel\n",
    "alpha = 0.2\n",
    "kernel = (1 - alpha) * kernel_hf + alpha * kernel_lf"
   ]
  },
  {
   "cell_type": "code",
   "execution_count": null,
   "id": "05bc19ef",
   "metadata": {},
   "outputs": [],
   "source": [
    "# Create a Gaussian Process Regressor with the multi-fidelity kernel\n",
    "gp = GaussianProcessRegressor(kernel=kernel, n_restarts_optimizer=8000000)"
   ]
  },
  {
   "cell_type": "code",
   "execution_count": null,
   "id": "7e9277ae",
   "metadata": {},
   "outputs": [],
   "source": [
    "X_combined = np.vstack((x_lf, x_hf))\n",
    "y_combined = np.vstack((y_lf, y_hf))\n",
    "\n",
    "gp.fit(X_combined, y_combined)\n"
   ]
  },
  {
   "cell_type": "code",
   "execution_count": null,
   "id": "a00f7b72",
   "metadata": {},
   "outputs": [],
   "source": []
  }
 ],
 "metadata": {
  "kernelspec": {
   "display_name": "Python 3 (ipykernel)",
   "language": "python",
   "name": "python3"
  },
  "language_info": {
   "codemirror_mode": {
    "name": "ipython",
    "version": 3
   },
   "file_extension": ".py",
   "mimetype": "text/x-python",
   "name": "python",
   "nbconvert_exporter": "python",
   "pygments_lexer": "ipython3",
   "version": "3.10.12"
  }
 },
 "nbformat": 4,
 "nbformat_minor": 5
}
